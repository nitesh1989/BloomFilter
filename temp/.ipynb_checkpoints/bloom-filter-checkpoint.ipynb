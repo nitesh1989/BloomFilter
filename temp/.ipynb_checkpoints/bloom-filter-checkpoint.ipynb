{
 "metadata": {
  "name": ""
 },
 "nbformat": 3,
 "nbformat_minor": 0,
 "worksheets": [
  {
   "cells": [
    {
     "cell_type": "heading",
     "level": 1,
     "metadata": {},
     "source": [
      "Test bloomfilters implementation by pybloom."
     ]
    },
    {
     "cell_type": "code",
     "collapsed": false,
     "input": [
      "#Test Version\n",
      "\n",
      "class ListFilter:\n",
      "    \n",
      "    def __init__(self):\n",
      "        self.hashes = []\n",
      "        \n",
      "    def add(self, val):\n",
      "        valHash= hash(val)\n",
      "        if valHash not in self.hashes:\n",
      "            self.hashes.append(valHash)\n",
      "            \n",
      "    def check(self, val):\n",
      "        return hash(val) in self.hashes"
     ],
     "language": "python",
     "metadata": {},
     "outputs": [],
     "prompt_number": 16
    },
    {
     "cell_type": "code",
     "collapsed": false,
     "input": [
      "x = ListFilter()\n",
      "x.add(1)\n",
      "x.add(2)"
     ],
     "language": "python",
     "metadata": {},
     "outputs": [],
     "prompt_number": 17
    },
    {
     "cell_type": "code",
     "collapsed": false,
     "input": [
      "x.check(1)"
     ],
     "language": "python",
     "metadata": {},
     "outputs": [
      {
       "metadata": {},
       "output_type": "pyout",
       "prompt_number": 19,
       "text": [
        "True"
       ]
      }
     ],
     "prompt_number": 19
    },
    {
     "cell_type": "code",
     "collapsed": false,
     "input": [
      "x.check(10)"
     ],
     "language": "python",
     "metadata": {},
     "outputs": [
      {
       "metadata": {},
       "output_type": "pyout",
       "prompt_number": 20,
       "text": [
        "False"
       ]
      }
     ],
     "prompt_number": 20
    },
    {
     "cell_type": "code",
     "collapsed": false,
     "input": [
      "class BloomFilter:\n",
      "    \n",
      "    def __init__(self, m, k):\n",
      "        self.m = m # length of bitarray\n",
      "        self.k = k # number of hash functions\n",
      "        self.bitArray = [0] * m #self.bitArray = [0 for i in range(m)]\n",
      "        \n",
      "    def getIndices(self, val):\n",
      "        indices = []\n",
      "        for i in range(self.k):\n",
      "            hash_ = hash(str(i) + val)\n",
      "            print \"str(i): \",(str(i) + val)\n",
      "            index = hash_ % self.m\n",
      "            print \"self.m: \",self.m\n",
      "            print \"index: \",index\n",
      "            indices.append(index)\n",
      "        return indices\n",
      "\n",
      "    def add(self, val):\n",
      "        indices = self.getIndices(val)\n",
      "        for index in indices:\n",
      "            self.bitArray[index] = 1\n",
      "    \n",
      "    def check(self, val):\n",
      "        indices = self.getIndices(val)\n",
      "        for index in indices:\n",
      "            if self.bitArray[index] == 0:\n",
      "                return False\n",
      "        return True\n",
      "    \n",
      "    "
     ],
     "language": "python",
     "metadata": {},
     "outputs": [],
     "prompt_number": 34
    },
    {
     "cell_type": "code",
     "collapsed": false,
     "input": [
      "b = BloomFilter(50,3)\n",
      "b"
     ],
     "language": "python",
     "metadata": {},
     "outputs": [
      {
       "metadata": {},
       "output_type": "pyout",
       "prompt_number": 35,
       "text": [
        "<__main__.BloomFilter instance at 0x107e52758>"
       ]
      }
     ],
     "prompt_number": 35
    },
    {
     "cell_type": "code",
     "collapsed": false,
     "input": [
      "b.add(\"abc\")"
     ],
     "language": "python",
     "metadata": {},
     "outputs": [
      {
       "output_type": "stream",
       "stream": "stdout",
       "text": [
        "str(i):  0abc\n",
        "self.m:  50\n",
        "index:  0\n",
        "str(i):  1abc\n",
        "self.m:  50\n",
        "index:  13\n",
        "str(i):  2abc\n",
        "self.m:  50\n",
        "index:  42\n"
       ]
      }
     ],
     "prompt_number": 36
    },
    {
     "cell_type": "code",
     "collapsed": false,
     "input": [
      "b.getIndices(\"hopkins\")"
     ],
     "language": "python",
     "metadata": {},
     "outputs": [
      {
       "output_type": "stream",
       "stream": "stdout",
       "text": [
        "str(i):  0hopkins\n",
        "self.m:  50\n",
        "index:  48\n",
        "str(i):  1hopkins\n",
        "self.m:  50\n",
        "index:  49\n",
        "str(i):  2hopkins\n",
        "self.m:  50\n",
        "index:  42\n"
       ]
      },
      {
       "metadata": {},
       "output_type": "pyout",
       "prompt_number": 37,
       "text": [
        "[48, 49, 42]"
       ]
      }
     ],
     "prompt_number": 37
    },
    {
     "cell_type": "code",
     "collapsed": false,
     "input": [
      "b.check(\"johns\")"
     ],
     "language": "python",
     "metadata": {},
     "outputs": [
      {
       "output_type": "stream",
       "stream": "stdout",
       "text": [
        "str(i):  0johns\n",
        "self.m:  50\n",
        "index:  34\n",
        "str(i):  1johns\n",
        "self.m:  50\n",
        "index:  1\n",
        "str(i):  2johns\n",
        "self.m:  50\n",
        "index:  28\n"
       ]
      },
      {
       "metadata": {},
       "output_type": "pyout",
       "prompt_number": 39,
       "text": [
        "False"
       ]
      }
     ],
     "prompt_number": 39
    },
    {
     "cell_type": "code",
     "collapsed": false,
     "input": [
      "import pybloom\n"
     ],
     "language": "python",
     "metadata": {},
     "outputs": []
    },
    {
     "cell_type": "heading",
     "level": 1,
     "metadata": {},
     "source": [
      "Rabin-Karp Algorithm for String matching"
     ]
    },
    {
     "cell_type": "code",
     "collapsed": false,
     "input": [],
     "language": "python",
     "metadata": {},
     "outputs": []
    }
   ],
   "metadata": {}
  }
 ]
}